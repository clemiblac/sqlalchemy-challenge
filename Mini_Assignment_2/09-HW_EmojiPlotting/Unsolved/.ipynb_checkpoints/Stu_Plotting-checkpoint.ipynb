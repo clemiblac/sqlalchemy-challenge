{
 "cells": [
  {
   "cell_type": "markdown",
   "metadata": {
    "slideshow": {
     "slide_type": "slide"
    }
   },
   "source": [
    "# Plotting Query Results"
   ]
  },
  {
   "cell_type": "markdown",
   "metadata": {
    "slideshow": {
     "slide_type": "slide"
    }
   },
   "source": [
    "## Setup"
   ]
  },
  {
   "cell_type": "code",
   "execution_count": 6,
   "metadata": {
    "deletable": false,
    "nbgrader": {
     "checksum": "aaecf88b986c0ba12fce209797d99aa8",
     "grade": false,
     "grade_id": "cell-e510ac54ba806bbd",
     "locked": false,
     "schema_version": 1,
     "solution": true
    },
    "slideshow": {
     "slide_type": "subslide"
    }
   },
   "outputs": [],
   "source": [
    "# Import Matplot lib\n",
    "import matplotlib\n",
    "from matplotlib import style\n",
    "style.use('seaborn')\n",
    "import matplotlib.pyplot as plt"
   ]
  },
  {
   "cell_type": "code",
   "execution_count": 7,
   "metadata": {
    "slideshow": {
     "slide_type": "subslide"
    }
   },
   "outputs": [],
   "source": [
    "import pandas as pd"
   ]
  },
  {
   "cell_type": "code",
   "execution_count": 8,
   "metadata": {
    "deletable": false,
    "nbgrader": {
     "checksum": "e4b7f7ef357d68fabe5c5adae6c44410",
     "grade": false,
     "grade_id": "cell-921fdfc7ea01c680",
     "locked": false,
     "schema_version": 1,
     "solution": true
    },
    "slideshow": {
     "slide_type": "subslide"
    }
   },
   "outputs": [],
   "source": [
    "# Import SQLAlchemy `automap` and other dependencies here\n",
    "import sqlalchemy\n",
    "from sqlalchemy.ext.automap import automap_base\n",
    "from sqlalchemy.orm import Session\n",
    "from sqlalchemy import create_engine\n",
    "Base = automap_base()"
   ]
  },
  {
   "cell_type": "code",
   "execution_count": 9,
   "metadata": {
    "deletable": false,
    "nbgrader": {
     "checksum": "5824732d2fed394fda7dcc48a767093d",
     "grade": false,
     "grade_id": "cell-efd553d6954b61df",
     "locked": false,
     "schema_version": 1,
     "solution": true
    },
    "slideshow": {
     "slide_type": "subslide"
    }
   },
   "outputs": [],
   "source": [
    "# Create an engine for the `emoji.sqlite` database\n",
    "engine = create_engine(\"sqlite:///../Resources/emoji.sqlite\", echo=False)"
   ]
  },
  {
   "cell_type": "markdown",
   "metadata": {
    "slideshow": {
     "slide_type": "slide"
    }
   },
   "source": [
    "## Explore Database"
   ]
  },
  {
   "cell_type": "code",
   "execution_count": 28,
   "metadata": {
    "deletable": false,
    "nbgrader": {
     "checksum": "f986b2e9df9082564613695ce42478e4",
     "grade": false,
     "grade_id": "cell-0e48aa1f13dad563",
     "locked": false,
     "schema_version": 1,
     "solution": true
    },
    "slideshow": {
     "slide_type": "subslide"
    }
   },
   "outputs": [
    {
     "data": {
      "text/plain": [
       "['emoji']"
      ]
     },
     "execution_count": 28,
     "metadata": {},
     "output_type": "execute_result"
    }
   ],
   "source": [
    "# Use the Inspector to explore the database and print the table names\n",
    "# YOUR CODE HERE\n",
    "Base.prepare(engine, reflect=True)\n",
    "table_name=Base.classes.keys()\n",
    "table_name"
   ]
  },
  {
   "cell_type": "code",
   "execution_count": 69,
   "metadata": {
    "deletable": false,
    "nbgrader": {
     "checksum": "067a439c94d6a686fb4a63f807705f3b",
     "grade": false,
     "grade_id": "cell-087efd9d2f394098",
     "locked": false,
     "schema_version": 1,
     "solution": true
    },
    "slideshow": {
     "slide_type": "subslide"
    }
   },
   "outputs": [
    {
     "name": "stdout",
     "output_type": "stream",
     "text": [
      "Column names and types\n",
      "id   --------------    INTEGER\n",
      "emoji_char   --------------    TEXT\n",
      "emoji_id   --------------    TEXT\n",
      "name   --------------    TEXT\n",
      "score   --------------    INTEGER\n"
     ]
    }
   ],
   "source": [
    "# Use Inspector to print the column names and types\n",
    "# YOUR CODE HERE\n",
    "Emoji_vars = Base.classes.emoji\n",
    "print(\"Column names and types\")\n",
    "for c in Emoji_vars.__table__.columns:\n",
    "    print(f\"{c.name}   --------------    {c.type}\")"
   ]
  },
  {
   "cell_type": "code",
   "execution_count": null,
   "metadata": {},
   "outputs": [],
   "source": []
  },
  {
   "cell_type": "code",
   "execution_count": 85,
   "metadata": {
    "deletable": false,
    "nbgrader": {
     "checksum": "8cc8ba1a8a2d9ba7863d99d4c94d2710",
     "grade": false,
     "grade_id": "cell-d7b08585acddc3cc",
     "locked": false,
     "schema_version": 1,
     "solution": true
    },
    "slideshow": {
     "slide_type": "subslide"
    }
   },
   "outputs": [
    {
     "name": "stdout",
     "output_type": "stream",
     "text": [
      "(1, '😂', '1F602', 'FACE WITH TEARS OF JOY', 1814832150)\n",
      "(2, '❤️', '2764', 'HEAVY BLACK HEART', 840619939)\n",
      "(3, '😍', '1F60D', 'SMILING FACE WITH HEART-SHAPED EYES', 680382416)\n",
      "(4, '♥️', '2665', 'BLACK HEART SUIT', 652715459)\n",
      "(5, '😭', '1F62D', 'LOUDLY CRYING FACE', 515991922)\n",
      "(6, '😊', '1F60A', 'SMILING FACE WITH SMILING EYES', 484540701)\n",
      "(7, '♻️', '267B', 'BLACK UNIVERSAL RECYCLING SYMBOL', 452489849)\n",
      "(8, '😒', '1F612', 'UNAMUSED FACE', 441690175)\n",
      "(9, '💕', '1F495', 'TWO HEARTS', 381679908)\n",
      "(10, '😘', '1F618', 'FACE THROWING A KISS', 377847645)\n"
     ]
    }
   ],
   "source": [
    "# Use `engine.execute` to select and display the first 10 rows from the emoji table\n",
    "# YOUR CODE HERE\n",
    "result = engine.execute(\"select *\\\n",
    "                        from emoji\\\n",
    "                        limit 10\")\n",
    "for row in result:\n",
    "    print(row)"
   ]
  },
  {
   "cell_type": "markdown",
   "metadata": {
    "slideshow": {
     "slide_type": "slide"
    }
   },
   "source": [
    "## Reflect database and Query"
   ]
  },
  {
   "cell_type": "code",
   "execution_count": 86,
   "metadata": {
    "slideshow": {
     "slide_type": "subslide"
    }
   },
   "outputs": [],
   "source": [
    "# Reflect Database into ORM class\n",
    "Base = automap_base()\n",
    "Base.prepare(engine, reflect=True)\n",
    "Emoji = Base.classes.emoji"
   ]
  },
  {
   "cell_type": "code",
   "execution_count": 87,
   "metadata": {
    "slideshow": {
     "slide_type": "fragment"
    }
   },
   "outputs": [],
   "source": [
    "# Start a session to query the database\n",
    "session = Session(engine)"
   ]
  },
  {
   "cell_type": "markdown",
   "metadata": {
    "slideshow": {
     "slide_type": "subslide"
    }
   },
   "source": [
    "Use Matplotlib to create a horizontal bar chart and plot the emoji `score` in descending order. Use `emoji_char` as the y-axis labels. Plot only the top 10 emojis ranked by score"
   ]
  },
  {
   "cell_type": "code",
   "execution_count": 101,
   "metadata": {
    "deletable": false,
    "nbgrader": {
     "checksum": "9a5be02305a7342ac40ff97122a06dda",
     "grade": false,
     "grade_id": "cell-f542e9079952a0d2",
     "locked": false,
     "schema_version": 1,
     "solution": true
    },
    "slideshow": {
     "slide_type": "fragment"
    }
   },
   "outputs": [
    {
     "data": {
      "text/html": [
       "<div>\n",
       "<style scoped>\n",
       "    .dataframe tbody tr th:only-of-type {\n",
       "        vertical-align: middle;\n",
       "    }\n",
       "\n",
       "    .dataframe tbody tr th {\n",
       "        vertical-align: top;\n",
       "    }\n",
       "\n",
       "    .dataframe thead th {\n",
       "        text-align: right;\n",
       "    }\n",
       "</style>\n",
       "<table border=\"1\" class=\"dataframe\">\n",
       "  <thead>\n",
       "    <tr style=\"text-align: right;\">\n",
       "      <th></th>\n",
       "      <th>emoji_char</th>\n",
       "      <th>emoji_id</th>\n",
       "      <th>score</th>\n",
       "    </tr>\n",
       "  </thead>\n",
       "  <tbody>\n",
       "    <tr>\n",
       "      <td>0</td>\n",
       "      <td>😂</td>\n",
       "      <td>1F602</td>\n",
       "      <td>1814832150</td>\n",
       "    </tr>\n",
       "    <tr>\n",
       "      <td>1</td>\n",
       "      <td>❤️</td>\n",
       "      <td>2764</td>\n",
       "      <td>840619939</td>\n",
       "    </tr>\n",
       "    <tr>\n",
       "      <td>2</td>\n",
       "      <td>😍</td>\n",
       "      <td>1F60D</td>\n",
       "      <td>680382416</td>\n",
       "    </tr>\n",
       "    <tr>\n",
       "      <td>3</td>\n",
       "      <td>♥️</td>\n",
       "      <td>2665</td>\n",
       "      <td>652715459</td>\n",
       "    </tr>\n",
       "    <tr>\n",
       "      <td>4</td>\n",
       "      <td>😭</td>\n",
       "      <td>1F62D</td>\n",
       "      <td>515991922</td>\n",
       "    </tr>\n",
       "    <tr>\n",
       "      <td>5</td>\n",
       "      <td>😊</td>\n",
       "      <td>1F60A</td>\n",
       "      <td>484540701</td>\n",
       "    </tr>\n",
       "    <tr>\n",
       "      <td>6</td>\n",
       "      <td>♻️</td>\n",
       "      <td>267B</td>\n",
       "      <td>452489849</td>\n",
       "    </tr>\n",
       "    <tr>\n",
       "      <td>7</td>\n",
       "      <td>😒</td>\n",
       "      <td>1F612</td>\n",
       "      <td>441690175</td>\n",
       "    </tr>\n",
       "    <tr>\n",
       "      <td>8</td>\n",
       "      <td>💕</td>\n",
       "      <td>1F495</td>\n",
       "      <td>381679908</td>\n",
       "    </tr>\n",
       "    <tr>\n",
       "      <td>9</td>\n",
       "      <td>😘</td>\n",
       "      <td>1F618</td>\n",
       "      <td>377847645</td>\n",
       "    </tr>\n",
       "  </tbody>\n",
       "</table>\n",
       "</div>"
      ],
      "text/plain": [
       "  emoji_char emoji_id       score\n",
       "0          😂    1F602  1814832150\n",
       "1         ❤️     2764   840619939\n",
       "2          😍    1F60D   680382416\n",
       "3         ♥️     2665   652715459\n",
       "4          😭    1F62D   515991922\n",
       "5          😊    1F60A   484540701\n",
       "6         ♻️     267B   452489849\n",
       "7          😒    1F612   441690175\n",
       "8          💕    1F495   381679908\n",
       "9          😘    1F618   377847645"
      ]
     },
     "execution_count": 101,
     "metadata": {},
     "output_type": "execute_result"
    }
   ],
   "source": [
    "# Query Emojis for `emoji_char`, `emoji_id`, and `score` and save the query into results\n",
    "# YOUR CODE HERE\n",
    "import pandas as pd\n",
    "conn = engine.connect()\n",
    "results = pd.read_sql(\"SELECT emoji_char, emoji_id, score\\\n",
    "                        FROM emoji\\\n",
    "                        ORDER BY score DESC\\\n",
    "                        LIMIT 10\", conn)\n",
    "results"
   ]
  },
  {
   "cell_type": "markdown",
   "metadata": {
    "slideshow": {
     "slide_type": "subslide"
    }
   },
   "source": [
    "Unpack tuples using list comprehensions"
   ]
  },
  {
   "cell_type": "code",
   "execution_count": 102,
   "metadata": {
    "deletable": false,
    "nbgrader": {
     "checksum": "db3f4b6b4d6aca253f8733247536d604",
     "grade": false,
     "grade_id": "cell-cb3a057af2014c2c",
     "locked": false,
     "schema_version": 1,
     "solution": true
    },
    "slideshow": {
     "slide_type": "fragment"
    }
   },
   "outputs": [],
   "source": [
    "# Unpack the `emoji_id` and `scores` from results and save into separate lists\n",
    "# YOUR CODE HERE\n",
    "emoji_id=results['emoji_id']\n",
    "scores=results['score']"
   ]
  },
  {
   "cell_type": "markdown",
   "metadata": {
    "slideshow": {
     "slide_type": "slide"
    }
   },
   "source": [
    "## Plot using Matplotlib"
   ]
  },
  {
   "cell_type": "code",
   "execution_count": 136,
   "metadata": {
    "deletable": false,
    "nbgrader": {
     "checksum": "12ec0603a7b092db782614a5c3ea3bc5",
     "grade": false,
     "grade_id": "cell-80891ad9d9412629",
     "locked": false,
     "schema_version": 1,
     "solution": true
    },
    "slideshow": {
     "slide_type": "subslide"
    }
   },
   "outputs": [
    {
     "data": {
      "text/plain": [
       "Text(0.5, 1.0, 'Emoji Scores (*1e9)')"
      ]
     },
     "execution_count": 136,
     "metadata": {},
     "output_type": "execute_result"
    },
    {
     "data": {
      "image/png": "[encoded data removed]",
      "text/plain": [
       "<Figure size 576x396 with 1 Axes>"
      ]
     },
     "metadata": {},
     "output_type": "display_data"
    }
   ],
   "source": [
    "# Create a horizontal bar chart and plot the `emoji_id` on the y-axis and the `score` on the x-axis\n",
    "# Challenge: Try to plot the scores in descending order on the graph (The largest score is at the top)\n",
    "# YOUR CODE HERE\n",
    "import matplotlib.pyplot as plt\n",
    "plt.barh(emoji_id,scores,align='center')\n",
    "plt.gca().invert_yaxis()\n",
    "plt.xlabel('Score',fontsize=15)\n",
    "plt.ylabel('Emoji ID',fontsize=15,labelpad=18)\n",
    "plt.title('Emoji Scores (*1e9)',fontsize=20)"
   ]
  },
  {
   "cell_type": "markdown",
   "metadata": {
    "slideshow": {
     "slide_type": "slide"
    }
   },
   "source": [
    "## Plot using Pandas Plotting"
   ]
  },
  {
   "cell_type": "markdown",
   "metadata": {
    "slideshow": {
     "slide_type": "subslide"
    }
   },
   "source": [
    "Load the results into a Pandas DataFrame"
   ]
  },
  {
   "cell_type": "code",
   "execution_count": 140,
   "metadata": {
    "deletable": false,
    "nbgrader": {
     "checksum": "d3d94c8ef5d76d423bac1ea95b540144",
     "grade": false,
     "grade_id": "cell-8f9936e71374d442",
     "locked": false,
     "schema_version": 1,
     "solution": true
    },
    "slideshow": {
     "slide_type": "fragment"
    }
   },
   "outputs": [
    {
     "data": {
      "text/html": [
       "<div>\n",
       "<style scoped>\n",
       "    .dataframe tbody tr th:only-of-type {\n",
       "        vertical-align: middle;\n",
       "    }\n",
       "\n",
       "    .dataframe tbody tr th {\n",
       "        vertical-align: top;\n",
       "    }\n",
       "\n",
       "    .dataframe thead th {\n",
       "        text-align: right;\n",
       "    }\n",
       "</style>\n",
       "<table border=\"1\" class=\"dataframe\">\n",
       "  <thead>\n",
       "    <tr style=\"text-align: right;\">\n",
       "      <th></th>\n",
       "      <th>emoji_char</th>\n",
       "      <th>score</th>\n",
       "    </tr>\n",
       "    <tr>\n",
       "      <th>emoji_id</th>\n",
       "      <th></th>\n",
       "      <th></th>\n",
       "    </tr>\n",
       "  </thead>\n",
       "  <tbody>\n",
       "    <tr>\n",
       "      <td>1F602</td>\n",
       "      <td>😂</td>\n",
       "      <td>1814832150</td>\n",
       "    </tr>\n",
       "    <tr>\n",
       "      <td>2764</td>\n",
       "      <td>❤️</td>\n",
       "      <td>840619939</td>\n",
       "    </tr>\n",
       "    <tr>\n",
       "      <td>1F60D</td>\n",
       "      <td>😍</td>\n",
       "      <td>680382416</td>\n",
       "    </tr>\n",
       "    <tr>\n",
       "      <td>2665</td>\n",
       "      <td>♥️</td>\n",
       "      <td>652715459</td>\n",
       "    </tr>\n",
       "    <tr>\n",
       "      <td>1F62D</td>\n",
       "      <td>😭</td>\n",
       "      <td>515991922</td>\n",
       "    </tr>\n",
       "    <tr>\n",
       "      <td>1F60A</td>\n",
       "      <td>😊</td>\n",
       "      <td>484540701</td>\n",
       "    </tr>\n",
       "    <tr>\n",
       "      <td>267B</td>\n",
       "      <td>♻️</td>\n",
       "      <td>452489849</td>\n",
       "    </tr>\n",
       "    <tr>\n",
       "      <td>1F612</td>\n",
       "      <td>😒</td>\n",
       "      <td>441690175</td>\n",
       "    </tr>\n",
       "    <tr>\n",
       "      <td>1F495</td>\n",
       "      <td>💕</td>\n",
       "      <td>381679908</td>\n",
       "    </tr>\n",
       "    <tr>\n",
       "      <td>1F618</td>\n",
       "      <td>😘</td>\n",
       "      <td>377847645</td>\n",
       "    </tr>\n",
       "  </tbody>\n",
       "</table>\n",
       "</div>"
      ],
      "text/plain": [
       "         emoji_char       score\n",
       "emoji_id                       \n",
       "1F602             😂  1814832150\n",
       "2764             ❤️   840619939\n",
       "1F60D             😍   680382416\n",
       "2665             ♥️   652715459\n",
       "1F62D             😭   515991922\n",
       "1F60A             😊   484540701\n",
       "267B             ♻️   452489849\n",
       "1F612             😒   441690175\n",
       "1F495             💕   381679908\n",
       "1F618             😘   377847645"
      ]
     },
     "execution_count": 140,
     "metadata": {},
     "output_type": "execute_result"
    }
   ],
   "source": [
    "# Load the results into a pandas dataframe. Set the index to the `emoji_id`\n",
    "# YOUR CODE HERE\n",
    "df=results.set_index(\"emoji_id\")\n",
    "df.head(10)"
   ]
  },
  {
   "cell_type": "markdown",
   "metadata": {
    "slideshow": {
     "slide_type": "subslide"
    }
   },
   "source": [
    "Plot using Pandas"
   ]
  },
  {
   "cell_type": "code",
   "execution_count": null,
   "metadata": {
    "collapsed": true,
    "deletable": false,
    "nbgrader": {
     "checksum": "18bc6d5426cb05c1519868a4f106a9e3",
     "grade": false,
     "grade_id": "cell-9684754419fc6916",
     "locked": false,
     "schema_version": 1,
     "solution": true
    },
    "slideshow": {
     "slide_type": "fragment"
    }
   },
   "outputs": [],
   "source": [
    "# Plot the dataframe as a horizontal bar chart using pandas plotting\n",
    "# YOUR CODE HERE\n",
    "df.plot"
   ]
  },
  {
   "cell_type": "code",
   "execution_count": null,
   "metadata": {
    "collapsed": true,
    "deletable": false,
    "nbgrader": {
     "checksum": "720da10a1db792d790372a236fec7513",
     "grade": false,
     "grade_id": "cell-e4fbc88164f5ce01",
     "locked": false,
     "schema_version": 1,
     "solution": true
    }
   },
   "outputs": [],
   "source": [
    "# BONUS: Use Pandas `read_sql_query` to load a query statement directly into the DataFrame\n",
    "# YOUR CODE HERE"
   ]
  }
 ],
 "metadata": {
  "kernelspec": {
   "display_name": "Python 3",
   "language": "python",
   "name": "python3"
  },
  "language_info": {
   "codemirror_mode": {
    "name": "ipython",
    "version": 3
   },
   "file_extension": ".py",
   "mimetype": "text/x-python",
   "name": "python",
   "nbconvert_exporter": "python",
   "pygments_lexer": "ipython3",
   "version": "3.7.4"
  },
  "varInspector": {
   "cols": {
    "lenName": 16,
    "lenType": 16,
    "lenVar": 40
   },
   "kernels_config": {
    "python": {
     "delete_cmd_postfix": "",
     "delete_cmd_prefix": "del ",
     "library": "var_list.py",
     "varRefreshCmd": "print(var_dic_list())"
    },
    "r": {
     "delete_cmd_postfix": ") ",
     "delete_cmd_prefix": "rm(",
     "library": "var_list.r",
     "varRefreshCmd": "cat(var_dic_list()) "
    }
   },
   "types_to_exclude": [
    "module",
    "function",
    "builtin_function_or_method",
    "instance",
    "_Feature"
   ],
   "window_display": false
  }
 },
 "nbformat": 4,
 "nbformat_minor": 2
}
